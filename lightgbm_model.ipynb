{
 "cells": [
  {
   "cell_type": "code",
   "execution_count": 85,
   "metadata": {},
   "outputs": [],
   "source": [
    "import pandas as pd\n",
    "from pandas.core.frame import DataFrame\n",
    "\n",
    "from sklearn.preprocessing import OneHotEncoder, MinMaxScaler\n",
    "from sklearn.impute import KNNImputer\n",
    "from sklearn.compose import ColumnTransformer\n",
    "from sklearn.pipeline import Pipeline\n",
    "import numpy as np\n",
    "from sklearn.model_selection import train_test_split, GridSearchCV, StratifiedKFold\n",
    "from sklearn.metrics import r2_score\n",
    "from lightgbm import LGBMRegressor\n",
    "import matplotlib.pyplot as plt\n",
    "import seaborn as sns\n",
    "import itertools"
   ]
  },
  {
   "cell_type": "code",
   "execution_count": 2,
   "metadata": {},
   "outputs": [],
   "source": [
    "df = pd.read_csv('https://archive.ics.uci.edu/ml/machine-learning-databases/00514/Bias_correction_ucl.csv')"
   ]
  },
  {
   "cell_type": "code",
   "execution_count": 10,
   "metadata": {},
   "outputs": [],
   "source": [
    "df['Date'] = pd.to_datetime(df['Date'])"
   ]
  },
  {
   "cell_type": "markdown",
   "metadata": {},
   "source": [
    "### Pre-processing"
   ]
  },
  {
   "cell_type": "code",
   "execution_count": 82,
   "metadata": {},
   "outputs": [
    {
     "data": {
      "text/plain": [
       "station              2\n",
       "Date                 2\n",
       "Present_Tmax        70\n",
       "Present_Tmin        70\n",
       "LDAPS_RHmin         75\n",
       "LDAPS_RHmax         75\n",
       "LDAPS_Tmax_lapse    75\n",
       "LDAPS_Tmin_lapse    75\n",
       "LDAPS_WS            75\n",
       "LDAPS_LH            75\n",
       "LDAPS_CC1           75\n",
       "LDAPS_CC2           75\n",
       "LDAPS_CC3           75\n",
       "LDAPS_CC4           75\n",
       "LDAPS_PPT1          75\n",
       "LDAPS_PPT2          75\n",
       "LDAPS_PPT3          75\n",
       "LDAPS_PPT4          75\n",
       "lat                  0\n",
       "lon                  0\n",
       "DEM                  0\n",
       "Slope                0\n",
       "Solar radiation      0\n",
       "Next_Tmax           27\n",
       "Next_Tmin           27\n",
       "dtype: int64"
      ]
     },
     "execution_count": 82,
     "metadata": {},
     "output_type": "execute_result"
    }
   ],
   "source": [
    "df.isna().sum()"
   ]
  },
  {
   "cell_type": "code",
   "execution_count": 96,
   "metadata": {},
   "outputs": [],
   "source": [
    "def handle_missing_data(df: DataFrame) -> DataFrame:\n",
    "    df_processed = df.copy()\n",
    "    df_processed = df_processed.dropna(subset=['Next_Tmax', 'Date'])\n",
    "    df_processed.reset_index(drop=True, inplace=True)\n",
    "    # missing_cols = df.columns[df.isna().any()].tolist()\n",
    "\n",
    "    df_date = df_processed['Date']\n",
    "    df_processed = df_processed.drop(['Date'], axis=1)\n",
    "    # df_missing = df[['enrollee_id'] + missing_cols]\n",
    "    # df_non_missing = df.drop(missing_cols, axis=1)\n",
    "\n",
    "    knn_imputer = KNNImputer(n_neighbors=1)\n",
    "\n",
    "    X = np.round(knn_imputer.fit_transform(df_processed))\n",
    "\n",
    "    df_processed = pd.DataFrame(X, columns = df_processed.columns)\n",
    "\n",
    "    df_processed['Date'] = df_date\n",
    "\n",
    "    return df_processed"
   ]
  },
  {
   "cell_type": "code",
   "execution_count": 97,
   "metadata": {},
   "outputs": [],
   "source": [
    "df_processed = handle_missing_data(df)"
   ]
  },
  {
   "cell_type": "code",
   "execution_count": 98,
   "metadata": {},
   "outputs": [],
   "source": [
    "X = df_processed.drop(['Date', 'Next_Tmin', 'Next_Tmax'], axis = 1)\n",
    "Y = df_processed['Next_Tmax']"
   ]
  },
  {
   "cell_type": "code",
   "execution_count": 99,
   "metadata": {},
   "outputs": [],
   "source": [
    "numeric_data = list(X.columns)\n",
    "numeric_data.remove('station')\n",
    "categoric_data = ['station']"
   ]
  },
  {
   "cell_type": "code",
   "execution_count": 100,
   "metadata": {},
   "outputs": [
    {
     "data": {
      "text/plain": [
       "Pipeline(steps=[('preprocessor',\n",
       "                 ColumnTransformer(transformers=[('cat_scale', OneHotEncoder(),\n",
       "                                                  ['station']),\n",
       "                                                 ('num_scale', MinMaxScaler(),\n",
       "                                                  ['Present_Tmax',\n",
       "                                                   'Present_Tmin',\n",
       "                                                   'LDAPS_RHmin', 'LDAPS_RHmax',\n",
       "                                                   'LDAPS_Tmax_lapse',\n",
       "                                                   'LDAPS_Tmin_lapse',\n",
       "                                                   'LDAPS_WS', 'LDAPS_LH',\n",
       "                                                   'LDAPS_CC1', 'LDAPS_CC2',\n",
       "                                                   'LDAPS_CC3', 'LDAPS_CC4',\n",
       "                                                   'LDAPS_PPT1', 'LDAPS_PPT2',\n",
       "                                                   'LDAPS_PPT3', 'LDAPS_PPT4',\n",
       "                                                   'lat', 'lon', 'DEM', 'Slope',\n",
       "                                                   'Solar radiation'])])),\n",
       "                ('lgb', LGBMRegressor())],\n",
       "         verbose=1)"
      ]
     },
     "execution_count": 100,
     "metadata": {},
     "output_type": "execute_result"
    }
   ],
   "source": [
    "transformers=[('cat_scale', OneHotEncoder(), categoric_data),\n",
    "             ('num_scale', MinMaxScaler(), numeric_data)]\n",
    "\n",
    "preprocessor = ColumnTransformer(transformers=transformers)\n",
    "\n",
    "lgb = LGBMRegressor()\n",
    "\n",
    "steps = [('preprocessor', preprocessor),\n",
    "        ('lgb', lgb)]\n",
    "\n",
    "lgb_model = Pipeline(steps=steps, verbose=1)\n",
    "lgb_model"
   ]
  },
  {
   "cell_type": "code",
   "execution_count": 101,
   "metadata": {},
   "outputs": [],
   "source": [
    "X_train, X_test, Y_train, Y_test = train_test_split(X, Y, test_size=0.3, random_state=42)"
   ]
  },
  {
   "cell_type": "code",
   "execution_count": 102,
   "metadata": {},
   "outputs": [
    {
     "name": "stdout",
     "output_type": "stream",
     "text": [
      "[Pipeline] ...... (step 1 of 2) Processing preprocessor, total=   0.0s\n",
      "[Pipeline] ............... (step 2 of 2) Processing lgb, total=   0.1s\n"
     ]
    },
    {
     "data": {
      "text/plain": [
       "Pipeline(steps=[('preprocessor',\n",
       "                 ColumnTransformer(transformers=[('cat_scale', OneHotEncoder(),\n",
       "                                                  ['station']),\n",
       "                                                 ('num_scale', MinMaxScaler(),\n",
       "                                                  ['Present_Tmax',\n",
       "                                                   'Present_Tmin',\n",
       "                                                   'LDAPS_RHmin', 'LDAPS_RHmax',\n",
       "                                                   'LDAPS_Tmax_lapse',\n",
       "                                                   'LDAPS_Tmin_lapse',\n",
       "                                                   'LDAPS_WS', 'LDAPS_LH',\n",
       "                                                   'LDAPS_CC1', 'LDAPS_CC2',\n",
       "                                                   'LDAPS_CC3', 'LDAPS_CC4',\n",
       "                                                   'LDAPS_PPT1', 'LDAPS_PPT2',\n",
       "                                                   'LDAPS_PPT3', 'LDAPS_PPT4',\n",
       "                                                   'lat', 'lon', 'DEM', 'Slope',\n",
       "                                                   'Solar radiation'])])),\n",
       "                ('lgb', LGBMRegressor())],\n",
       "         verbose=1)"
      ]
     },
     "execution_count": 102,
     "metadata": {},
     "output_type": "execute_result"
    }
   ],
   "source": [
    "lgb_model.fit(X_train, Y_train)"
   ]
  },
  {
   "cell_type": "code",
   "execution_count": 103,
   "metadata": {},
   "outputs": [],
   "source": [
    "Y_pred = lgb_model.predict(X_test)"
   ]
  },
  {
   "cell_type": "code",
   "execution_count": 104,
   "metadata": {},
   "outputs": [
    {
     "data": {
      "text/plain": [
       "0.8778592987148331"
      ]
     },
     "execution_count": 104,
     "metadata": {},
     "output_type": "execute_result"
    }
   ],
   "source": [
    "r2_score(Y_test, Y_pred)"
   ]
  },
  {
   "cell_type": "code",
   "execution_count": null,
   "metadata": {},
   "outputs": [],
   "source": []
  }
 ],
 "metadata": {
  "interpreter": {
   "hash": "5b9a9829bfd4bd22d5b3b20a990b98b71f85420816dd0dfc2e76761f41c6bb45"
  },
  "kernelspec": {
   "display_name": "Python 3.9.5 64-bit ('pos': conda)",
   "language": "python",
   "name": "python3"
  },
  "language_info": {
   "codemirror_mode": {
    "name": "ipython",
    "version": 3
   },
   "file_extension": ".py",
   "mimetype": "text/x-python",
   "name": "python",
   "nbconvert_exporter": "python",
   "pygments_lexer": "ipython3",
   "version": "3.9.5"
  },
  "orig_nbformat": 4
 },
 "nbformat": 4,
 "nbformat_minor": 2
}
