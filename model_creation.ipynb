{
 "cells": [
  {
   "cell_type": "code",
   "execution_count": 1,
   "metadata": {},
   "outputs": [],
   "source": [
    "import pandas as pd\n",
    "from pandas.core.frame import DataFrame\n",
    "\n",
    "from sklearn.preprocessing import OneHotEncoder, MinMaxScaler\n",
    "from sklearn.impute import KNNImputer\n",
    "from sklearn.compose import ColumnTransformer\n",
    "from sklearn.pipeline import Pipeline\n",
    "import numpy as np\n",
    "from sklearn.model_selection import TimeSeriesSplit, cross_val_score, GridSearchCV\n",
    "from sklearn.metrics import r2_score, mean_absolute_error, mean_squared_error\n",
    "from lightgbm import LGBMRegressor\n",
    "from sklearn.neural_network import MLPRegressor\n",
    "from sklearn.linear_model import ElasticNet\n",
    "import matplotlib.pyplot as plt\n",
    "import seaborn as sns"
   ]
  },
  {
   "cell_type": "code",
   "execution_count": 2,
   "metadata": {},
   "outputs": [],
   "source": [
    "df = pd.read_csv('https://archive.ics.uci.edu/ml/machine-learning-databases/00514/Bias_correction_ucl.csv')"
   ]
  },
  {
   "cell_type": "code",
   "execution_count": 3,
   "metadata": {},
   "outputs": [],
   "source": [
    "df['Date'] = pd.to_datetime(df['Date'])"
   ]
  },
  {
   "cell_type": "markdown",
   "metadata": {},
   "source": [
    "### Pré-processamento"
   ]
  },
  {
   "cell_type": "code",
   "execution_count": 4,
   "metadata": {},
   "outputs": [
    {
     "data": {
      "text/plain": [
       "station              2\n",
       "Date                 2\n",
       "Present_Tmax        70\n",
       "Present_Tmin        70\n",
       "LDAPS_RHmin         75\n",
       "LDAPS_RHmax         75\n",
       "LDAPS_Tmax_lapse    75\n",
       "LDAPS_Tmin_lapse    75\n",
       "LDAPS_WS            75\n",
       "LDAPS_LH            75\n",
       "LDAPS_CC1           75\n",
       "LDAPS_CC2           75\n",
       "LDAPS_CC3           75\n",
       "LDAPS_CC4           75\n",
       "LDAPS_PPT1          75\n",
       "LDAPS_PPT2          75\n",
       "LDAPS_PPT3          75\n",
       "LDAPS_PPT4          75\n",
       "lat                  0\n",
       "lon                  0\n",
       "DEM                  0\n",
       "Slope                0\n",
       "Solar radiation      0\n",
       "Next_Tmax           27\n",
       "Next_Tmin           27\n",
       "dtype: int64"
      ]
     },
     "execution_count": 4,
     "metadata": {},
     "output_type": "execute_result"
    }
   ],
   "source": [
    "df.isna().sum()"
   ]
  },
  {
   "cell_type": "code",
   "execution_count": 5,
   "metadata": {},
   "outputs": [],
   "source": [
    "def handle_missing_data(df: DataFrame) -> DataFrame:\n",
    "    df_processed = df.copy()\n",
    "    df_processed = df_processed.dropna(subset=['Next_Tmax', 'Date'])\n",
    "    df_processed.reset_index(drop=True, inplace=True)\n",
    "\n",
    "    df_date = df_processed['Date']\n",
    "    df_processed = df_processed.drop(['Date'], axis=1)\n",
    "\n",
    "    knn_imputer = KNNImputer(n_neighbors=1)\n",
    "\n",
    "    X = knn_imputer.fit_transform(df_processed)\n",
    "\n",
    "    df_processed = pd.DataFrame(X, columns = df_processed.columns)\n",
    "\n",
    "    df_processed['Date'] = df_date\n",
    "\n",
    "    return df_processed"
   ]
  },
  {
   "cell_type": "code",
   "execution_count": 6,
   "metadata": {},
   "outputs": [],
   "source": [
    "df_processed = handle_missing_data(df)"
   ]
  },
  {
   "cell_type": "markdown",
   "metadata": {},
   "source": [
    "### Feature Engineering\n",
    "\n",
    "- Extrair informações de mês, dia e ano da feature ```Date```"
   ]
  },
  {
   "cell_type": "code",
   "execution_count": 7,
   "metadata": {},
   "outputs": [],
   "source": [
    "# Month\n",
    "df_processed['month'] = df_processed.Date.dt.month\n",
    "\n",
    "# Day of month\n",
    "df_processed['day_of_month'] = df_processed.Date.dt.day\n",
    "\n",
    "# Day of week\n",
    "df_processed['day_of_week'] = df_processed.Date.dt.day_name()\n",
    "\n",
    "# Year: for data split purpose only\n",
    "df_processed['year'] = df_processed.Date.dt.year"
   ]
  },
  {
   "cell_type": "markdown",
   "metadata": {},
   "source": [
    "### Feature Selection\n",
    "\n",
    "- Remover features com baixa correlação com ```Next_Tmax``` -> $|corr| < 0.15$\n",
    "- Remove ```Date``` e ```Next_Tmin```\n",
    "- Separar colunas numéricas de categóricas"
   ]
  },
  {
   "cell_type": "code",
   "execution_count": 8,
   "metadata": {},
   "outputs": [],
   "source": [
    "# split categoric and numeric data\n",
    "numeric_data = list(set(df_processed.columns) - set(['station', 'month', 'day_of_month', 'day_of_week', 'year']))\n",
    "categoric_data = ['station', 'month', 'day_of_month', 'day_of_week']"
   ]
  },
  {
   "cell_type": "code",
   "execution_count": 9,
   "metadata": {},
   "outputs": [
    {
     "data": {
      "text/plain": [
       "['Solar radiation',\n",
       " 'lat',\n",
       " 'LDAPS_PPT1',\n",
       " 'Slope',\n",
       " 'lon',\n",
       " 'Date',\n",
       " 'Next_Tmin',\n",
       " 'Next_Tmax']"
      ]
     },
     "execution_count": 9,
     "metadata": {},
     "output_type": "execute_result"
    }
   ],
   "source": [
    "# identify columns with low correlation\n",
    "corrMatrix = df_processed[numeric_data].corr()\n",
    "columns_to_drop = list(corrMatrix[(np.absolute(corrMatrix['Next_Tmax']) < 0.15)]['Next_Tmax'].index)\n",
    "columns_to_drop = columns_to_drop + ['Date', 'Next_Tmin', 'Next_Tmax']\n",
    "columns_to_drop"
   ]
  },
  {
   "cell_type": "code",
   "execution_count": 10,
   "metadata": {},
   "outputs": [],
   "source": [
    "X = df_processed.drop(columns_to_drop, axis = 1)\n",
    "y = df_processed['Next_Tmax']"
   ]
  },
  {
   "cell_type": "code",
   "execution_count": 11,
   "metadata": {},
   "outputs": [],
   "source": [
    "numeric_data = list(set(numeric_data) - set(columns_to_drop))"
   ]
  },
  {
   "cell_type": "markdown",
   "metadata": {},
   "source": [
    "### Partição dos dados\n",
    "\n",
    "- Partição dos dados de treino e teste 70/30\n",
    "- Criação de uma técnica de cross validation que considera os dados anuais, visto que os dados estão situados entre os mês de junho e agosto, essa pode ser uma boa abordagem."
   ]
  },
  {
   "cell_type": "code",
   "execution_count": 12,
   "metadata": {},
   "outputs": [
    {
     "data": {
      "text/plain": [
       "5406"
      ]
     },
     "execution_count": 12,
     "metadata": {},
     "output_type": "execute_result"
    }
   ],
   "source": [
    "# train test split 70/30\n",
    "SPLIT_ID = int(len(y)*0.7)\n",
    "\n",
    "# set SPLIT_ID by the end of the first 4 years on the dataset\n",
    "# SPLIT_ID = X[X['year'] != 2017].index[-1] + 1\n",
    "\n",
    "SPLIT_ID"
   ]
  },
  {
   "cell_type": "code",
   "execution_count": 13,
   "metadata": {},
   "outputs": [],
   "source": [
    "X_train = X.iloc[:SPLIT_ID]\n",
    "y_train = y.iloc[:SPLIT_ID]\n",
    "\n",
    "X_test = X.iloc[SPLIT_ID:]\n",
    "y_test = y.iloc[SPLIT_ID:]"
   ]
  },
  {
   "cell_type": "code",
   "execution_count": 14,
   "metadata": {},
   "outputs": [],
   "source": [
    "class AnualTimeSeriesSplit():\n",
    "    def __init__(self, first_year, n_years):\n",
    "        self.n_splits = n_years\n",
    "        self.first_year = first_year\n",
    "    \n",
    "    def get_n_splits(self, X, y, groups):\n",
    "        return self.n_splits\n",
    "    \n",
    "    def split(self, X, y=None, groups=None):\n",
    "        n_samples = len(X)\n",
    "        indices = np.arange(n_samples)\n",
    "        for i in range(self.n_splits):\n",
    "            start = 0\n",
    "            mid = X[X['year'] == self.first_year + i].index[-1] + 1\n",
    "            stop = X[X['year'] == self.first_year + i + 1].index[-1] + 1\n",
    "            yield indices[start: mid], indices[mid: stop]"
   ]
  },
  {
   "cell_type": "code",
   "execution_count": 15,
   "metadata": {},
   "outputs": [],
   "source": [
    "# cross validation for gridsearch\n",
    "tscv = TimeSeriesSplit(n_splits=4)\n",
    "atscv = AnualTimeSeriesSplit(first_year=2013, n_years=4)"
   ]
  },
  {
   "cell_type": "markdown",
   "metadata": {},
   "source": [
    "## Criação dos modelos\n",
    "\n",
    "- Pipeline para tratamento dos dados\n",
    "- Busca de hiperparâmetros utilizando GridSearchCV\n",
    "- Modelos selecionados: LightGBM, Redes Neurais e Elastic Net. Todos esses estimadores foram selecionados após pesquisa sobre modelos simples com melhor desempenho para séries temporais. \n",
    "\n",
    "### Pipeline para treinamento e teste dos modelos\n",
    "\n",
    "- Aplicação de One Hot Encoding para dados categóricos\n",
    "- Aplicação de MinMaxScaler para os dados numéricos. Estes atributos ficarão numa escala de valores entre 0 e 1."
   ]
  },
  {
   "cell_type": "code",
   "execution_count": 16,
   "metadata": {},
   "outputs": [],
   "source": [
    "# build model with sklearn pipeline\n",
    "def build_model(model=LGBMRegressor()):\n",
    "    transformers=[('cat_scale', OneHotEncoder(), categoric_data),\n",
    "                ('num_scale', MinMaxScaler(), numeric_data)]\n",
    "\n",
    "    preprocessor = ColumnTransformer(transformers=transformers)\n",
    "\n",
    "    steps = [('preprocessor', preprocessor),\n",
    "            ('model', model)]\n",
    "\n",
    "    model_pipeline = Pipeline(steps=steps, verbose=False)\n",
    "    return model_pipeline\n",
    "\n",
    "lgb_model = build_model()"
   ]
  },
  {
   "cell_type": "code",
   "execution_count": 17,
   "metadata": {},
   "outputs": [],
   "source": [
    "# testing cross_val_score with personalized time series split\n",
    "scores = cross_val_score(lgb_model, X, y, cv=atscv, scoring='r2')"
   ]
  },
  {
   "cell_type": "code",
   "execution_count": 18,
   "metadata": {},
   "outputs": [
    {
     "name": "stdout",
     "output_type": "stream",
     "text": [
      "R2 score: 0.689 (+/- 0.092)\n"
     ]
    }
   ],
   "source": [
    "print(\"R2 score: {0:.3f} (+/- {1:.3f})\".format(scores.mean(), scores.std()))"
   ]
  },
  {
   "cell_type": "code",
   "execution_count": 45,
   "metadata": {},
   "outputs": [],
   "source": [
    "# dict to save metrics for late comparison\n",
    "RMSE_values = {}\n",
    "r2_values = {}\n",
    "MAE_values = {}"
   ]
  },
  {
   "cell_type": "markdown",
   "metadata": {},
   "source": [
    "### LightGBM"
   ]
  },
  {
   "cell_type": "code",
   "execution_count": 21,
   "metadata": {},
   "outputs": [],
   "source": [
    "gridParams = {\n",
    "    'model__learning_rate': [0.01, 0.1],\n",
    "    'model__n_estimators': [50,100,150,200],\n",
    "    'model__num_leaves': [12,16,31,48], # large num_leaves helps improve accuracy but might lead to over-fitting\n",
    "    'model__random_state' : [42],\n",
    "    'model__subsample' : [0.5, 0.7, 1],\n",
    "    'model__reg_alpha' : [1,1.2],\n",
    "    'model__reg_lambda' : [1,1.2],\n",
    "}"
   ]
  },
  {
   "cell_type": "code",
   "execution_count": 22,
   "metadata": {},
   "outputs": [],
   "source": [
    "model = build_model()\n",
    "gs_lgbm = GridSearchCV(model, param_grid=gridParams, cv=atscv, scoring='r2', return_train_score=True, verbose=True)"
   ]
  },
  {
   "cell_type": "code",
   "execution_count": 23,
   "metadata": {},
   "outputs": [
    {
     "name": "stdout",
     "output_type": "stream",
     "text": [
      "Fitting 4 folds for each of 384 candidates, totalling 1536 fits\n"
     ]
    },
    {
     "data": {
      "text/plain": [
       "GridSearchCV(cv=<__main__.AnualTimeSeriesSplit object at 0x0000019A7A287D30>,\n",
       "             estimator=Pipeline(steps=[('preprocessor',\n",
       "                                        ColumnTransformer(transformers=[('cat_scale',\n",
       "                                                                         OneHotEncoder(),\n",
       "                                                                         ['station',\n",
       "                                                                          'month',\n",
       "                                                                          'day_of_month',\n",
       "                                                                          'day_of_week']),\n",
       "                                                                        ('num_scale',\n",
       "                                                                         MinMaxScaler(),\n",
       "                                                                         ['LDAPS_CC3',\n",
       "                                                                          'LDAPS_Tmin_lapse',\n",
       "                                                                          'LDAPS_CC4',\n",
       "                                                                          'LDAPS_WS',\n",
       "                                                                          'LDAPS_CC1',\n",
       "                                                                          'LDAPS_CC2',\n",
       "                                                                          'DEM',\n",
       "                                                                          'LDAPS_PPT...\n",
       "                                                                          'LDAPS_Tmax_lapse',\n",
       "                                                                          'Present_Tmin'])])),\n",
       "                                       ('model', LGBMRegressor())]),\n",
       "             param_grid={'model__learning_rate': [0.01, 0.1],\n",
       "                         'model__n_estimators': [50, 100, 150, 200],\n",
       "                         'model__num_leaves': [12, 16, 31, 48],\n",
       "                         'model__random_state': [42],\n",
       "                         'model__reg_alpha': [1, 1.2],\n",
       "                         'model__reg_lambda': [1, 1.2],\n",
       "                         'model__subsample': [0.5, 0.7, 1]},\n",
       "             return_train_score=True, scoring='r2', verbose=True)"
      ]
     },
     "execution_count": 23,
     "metadata": {},
     "output_type": "execute_result"
    }
   ],
   "source": [
    "gs_lgbm.fit(X, y)"
   ]
  },
  {
   "cell_type": "code",
   "execution_count": 24,
   "metadata": {},
   "outputs": [
    {
     "data": {
      "text/plain": [
       "Pipeline(steps=[('preprocessor',\n",
       "                 ColumnTransformer(transformers=[('cat_scale', OneHotEncoder(),\n",
       "                                                  ['station', 'month',\n",
       "                                                   'day_of_month',\n",
       "                                                   'day_of_week']),\n",
       "                                                 ('num_scale', MinMaxScaler(),\n",
       "                                                  ['LDAPS_CC3',\n",
       "                                                   'LDAPS_Tmin_lapse',\n",
       "                                                   'LDAPS_CC4', 'LDAPS_WS',\n",
       "                                                   'LDAPS_CC1', 'LDAPS_CC2',\n",
       "                                                   'DEM', 'LDAPS_PPT3',\n",
       "                                                   'LDAPS_LH', 'LDAPS_RHmax',\n",
       "                                                   'LDAPS_PPT4', 'Present_Tmax',\n",
       "                                                   'LDAPS_RHmin', 'LDAPS_PPT2',\n",
       "                                                   'LDAPS_Tmax_lapse',\n",
       "                                                   'Present_Tmin'])])),\n",
       "                ('model',\n",
       "                 LGBMRegressor(n_estimators=150, num_leaves=16, random_state=42,\n",
       "                               reg_alpha=1, reg_lambda=1.2, subsample=0.5))])"
      ]
     },
     "execution_count": 24,
     "metadata": {},
     "output_type": "execute_result"
    }
   ],
   "source": [
    "best_model_lgbm = gs_lgbm.best_estimator_\n",
    "best_model_lgbm"
   ]
  },
  {
   "cell_type": "code",
   "execution_count": 46,
   "metadata": {},
   "outputs": [
    {
     "name": "stdout",
     "output_type": "stream",
     "text": [
      "Test R2 Score: 0.784\n",
      "Test RMSE Score: 1.697\n",
      "Test MAE Score: 1.255\n"
     ]
    }
   ],
   "source": [
    "\n",
    "# train best model\n",
    "best_model_lgbm.fit(X_train, y_train)\n",
    "# test score\n",
    "y_predicted = best_model_lgbm.predict(X_test)\n",
    "r2 = r2_score(y_test, y_predicted, multioutput='uniform_average')\n",
    "rmse = mean_squared_error(y_test, y_predicted, squared=False)\n",
    "mae = mean_absolute_error(y_test, y_predicted)\n",
    "print(\"Test R2 Score: {0:.3f}\".format(r2))\n",
    "print(\"Test RMSE Score: {0:.3f}\".format(rmse))\n",
    "print(\"Test MAE Score: {0:.3f}\".format(mae))\n",
    "r2_values['LightGBM'] = r2\n",
    "RMSE_values['LightGBM'] = rmse\n",
    "MAE_values['LightGBM'] = mae"
   ]
  },
  {
   "cell_type": "markdown",
   "metadata": {},
   "source": [
    "### Redes Neurais"
   ]
  },
  {
   "cell_type": "code",
   "execution_count": 26,
   "metadata": {},
   "outputs": [],
   "source": [
    "params = {\n",
    "    'model__activation': ['identity', 'logistic','tanh','relu'],\n",
    "    'model__hidden_layer_sizes': [(10,20),(100,),(50,50),(100,100), (120, 120)],\n",
    "    'model__solver': ['adam'],\n",
    "    'model__early_stopping': [True],\n",
    "    'model__max_iter': [1000]\n",
    "}"
   ]
  },
  {
   "cell_type": "code",
   "execution_count": 27,
   "metadata": {},
   "outputs": [],
   "source": [
    "model = build_model(MLPRegressor(random_state=42))\n",
    "gs_nn = GridSearchCV(model, param_grid=params, cv=atscv, scoring='r2', return_train_score=True, verbose=True)"
   ]
  },
  {
   "cell_type": "code",
   "execution_count": 28,
   "metadata": {},
   "outputs": [
    {
     "name": "stdout",
     "output_type": "stream",
     "text": [
      "Fitting 4 folds for each of 20 candidates, totalling 80 fits\n"
     ]
    },
    {
     "data": {
      "text/plain": [
       "GridSearchCV(cv=<__main__.AnualTimeSeriesSplit object at 0x0000019A7A287D30>,\n",
       "             estimator=Pipeline(steps=[('preprocessor',\n",
       "                                        ColumnTransformer(transformers=[('cat_scale',\n",
       "                                                                         OneHotEncoder(),\n",
       "                                                                         ['station',\n",
       "                                                                          'month',\n",
       "                                                                          'day_of_month',\n",
       "                                                                          'day_of_week']),\n",
       "                                                                        ('num_scale',\n",
       "                                                                         MinMaxScaler(),\n",
       "                                                                         ['LDAPS_CC3',\n",
       "                                                                          'LDAPS_Tmin_lapse',\n",
       "                                                                          'LDAPS_CC4',\n",
       "                                                                          'LDAPS_WS',\n",
       "                                                                          'LDAPS_CC1',\n",
       "                                                                          'LDAPS_CC2',\n",
       "                                                                          'DEM',\n",
       "                                                                          'LDAPS_PPT...\n",
       "                                                                          'LDAPS_Tmax_lapse',\n",
       "                                                                          'Present_Tmin'])])),\n",
       "                                       ('model',\n",
       "                                        MLPRegressor(random_state=42))]),\n",
       "             param_grid={'model__activation': ['identity', 'logistic', 'tanh',\n",
       "                                               'relu'],\n",
       "                         'model__early_stopping': [True],\n",
       "                         'model__hidden_layer_sizes': [(10, 20), (100,),\n",
       "                                                       (50, 50), (100, 100),\n",
       "                                                       (120, 120)],\n",
       "                         'model__max_iter': [1000], 'model__solver': ['adam']},\n",
       "             return_train_score=True, scoring='r2', verbose=True)"
      ]
     },
     "execution_count": 28,
     "metadata": {},
     "output_type": "execute_result"
    }
   ],
   "source": [
    "gs_nn.fit(X, y)"
   ]
  },
  {
   "cell_type": "code",
   "execution_count": 29,
   "metadata": {},
   "outputs": [
    {
     "data": {
      "text/plain": [
       "Pipeline(steps=[('preprocessor',\n",
       "                 ColumnTransformer(transformers=[('cat_scale', OneHotEncoder(),\n",
       "                                                  ['station', 'month',\n",
       "                                                   'day_of_month',\n",
       "                                                   'day_of_week']),\n",
       "                                                 ('num_scale', MinMaxScaler(),\n",
       "                                                  ['LDAPS_CC3',\n",
       "                                                   'LDAPS_Tmin_lapse',\n",
       "                                                   'LDAPS_CC4', 'LDAPS_WS',\n",
       "                                                   'LDAPS_CC1', 'LDAPS_CC2',\n",
       "                                                   'DEM', 'LDAPS_PPT3',\n",
       "                                                   'LDAPS_LH', 'LDAPS_RHmax',\n",
       "                                                   'LDAPS_PPT4', 'Present_Tmax',\n",
       "                                                   'LDAPS_RHmin', 'LDAPS_PPT2',\n",
       "                                                   'LDAPS_Tmax_lapse',\n",
       "                                                   'Present_Tmin'])])),\n",
       "                ('model',\n",
       "                 MLPRegressor(activation='identity', early_stopping=True,\n",
       "                              hidden_layer_sizes=(50, 50), max_iter=1000,\n",
       "                              random_state=42))])"
      ]
     },
     "execution_count": 29,
     "metadata": {},
     "output_type": "execute_result"
    }
   ],
   "source": [
    "best_model_nn = gs_nn.best_estimator_\n",
    "best_model_nn"
   ]
  },
  {
   "cell_type": "code",
   "execution_count": 47,
   "metadata": {},
   "outputs": [
    {
     "name": "stdout",
     "output_type": "stream",
     "text": [
      "Test R2 Score: 0.819\n",
      "Test RMSE Score: 1.555\n",
      "Test MAE Score: 1.156\n"
     ]
    }
   ],
   "source": [
    "\n",
    "model = build_model(MLPRegressor(activation='identity', early_stopping=True,\n",
    "                              hidden_layer_sizes=(50, 50), max_iter=1000,\n",
    "                              random_state=42))\n",
    "# train model\n",
    "model.fit(X_train, y_train)\n",
    "# test score\n",
    "y_predicted = model.predict(X_test)\n",
    "r2 = r2_score(y_test, y_predicted, multioutput='uniform_average')\n",
    "rmse = mean_squared_error(y_test, y_predicted, squared=False)\n",
    "mae = mean_absolute_error(y_test, y_predicted)\n",
    "print(\"Test R2 Score: {0:.3f}\".format(r2))\n",
    "print(\"Test RMSE Score: {0:.3f}\".format(rmse))\n",
    "print(\"Test MAE Score: {0:.3f}\".format(mae))\n",
    "r2_values['NeuralNetwork'] = r2\n",
    "RMSE_values['NeuralNetwork'] = rmse\n",
    "MAE_values['NeuralNetwork'] = mae"
   ]
  },
  {
   "cell_type": "markdown",
   "metadata": {},
   "source": [
    "### ElasticNet"
   ]
  },
  {
   "cell_type": "code",
   "execution_count": 37,
   "metadata": {},
   "outputs": [],
   "source": [
    "params = {\n",
    "    'model__alpha':(0.1, 0.3, 0.5, 0.7, 0.9),\n",
    "    'model__l1_ratio':(0.1, 0.3, 0.5, 0.7, 0.9)\n",
    "}"
   ]
  },
  {
   "cell_type": "code",
   "execution_count": 38,
   "metadata": {},
   "outputs": [],
   "source": [
    "model = build_model(ElasticNet(random_state=42))\n",
    "gs_en = GridSearchCV(model, param_grid=params, cv=atscv, scoring='r2', return_train_score=True, verbose=True)"
   ]
  },
  {
   "cell_type": "code",
   "execution_count": 39,
   "metadata": {},
   "outputs": [
    {
     "name": "stdout",
     "output_type": "stream",
     "text": [
      "Fitting 4 folds for each of 25 candidates, totalling 100 fits\n"
     ]
    },
    {
     "data": {
      "text/plain": [
       "GridSearchCV(cv=<__main__.AnualTimeSeriesSplit object at 0x0000019A7A287D30>,\n",
       "             estimator=Pipeline(steps=[('preprocessor',\n",
       "                                        ColumnTransformer(transformers=[('cat_scale',\n",
       "                                                                         OneHotEncoder(),\n",
       "                                                                         ['station',\n",
       "                                                                          'month',\n",
       "                                                                          'day_of_month',\n",
       "                                                                          'day_of_week']),\n",
       "                                                                        ('num_scale',\n",
       "                                                                         MinMaxScaler(),\n",
       "                                                                         ['LDAPS_CC3',\n",
       "                                                                          'LDAPS_Tmin_lapse',\n",
       "                                                                          'LDAPS_CC4',\n",
       "                                                                          'LDAPS_WS',\n",
       "                                                                          'LDAPS_CC1',\n",
       "                                                                          'LDAPS_CC2',\n",
       "                                                                          'DEM',\n",
       "                                                                          'LDAPS_PPT3',\n",
       "                                                                          'LDAPS_LH',\n",
       "                                                                          'LDAPS_RHmax',\n",
       "                                                                          'LDAPS_PPT4',\n",
       "                                                                          'Present_Tmax',\n",
       "                                                                          'LDAPS_RHmin',\n",
       "                                                                          'LDAPS_PPT2',\n",
       "                                                                          'LDAPS_Tmax_lapse',\n",
       "                                                                          'Present_Tmin'])])),\n",
       "                                       ('model', ElasticNet(random_state=42))]),\n",
       "             param_grid={'model__alpha': (0.1, 0.3, 0.5, 0.7, 0.9),\n",
       "                         'model__l1_ratio': (0.1, 0.3, 0.5, 0.7, 0.9)},\n",
       "             return_train_score=True, scoring='r2', verbose=True)"
      ]
     },
     "execution_count": 39,
     "metadata": {},
     "output_type": "execute_result"
    }
   ],
   "source": [
    "gs_en.fit(X, y)"
   ]
  },
  {
   "cell_type": "code",
   "execution_count": 41,
   "metadata": {},
   "outputs": [
    {
     "data": {
      "text/plain": [
       "Pipeline(steps=[('preprocessor',\n",
       "                 ColumnTransformer(transformers=[('cat_scale', OneHotEncoder(),\n",
       "                                                  ['station', 'month',\n",
       "                                                   'day_of_month',\n",
       "                                                   'day_of_week']),\n",
       "                                                 ('num_scale', MinMaxScaler(),\n",
       "                                                  ['LDAPS_CC3',\n",
       "                                                   'LDAPS_Tmin_lapse',\n",
       "                                                   'LDAPS_CC4', 'LDAPS_WS',\n",
       "                                                   'LDAPS_CC1', 'LDAPS_CC2',\n",
       "                                                   'DEM', 'LDAPS_PPT3',\n",
       "                                                   'LDAPS_LH', 'LDAPS_RHmax',\n",
       "                                                   'LDAPS_PPT4', 'Present_Tmax',\n",
       "                                                   'LDAPS_RHmin', 'LDAPS_PPT2',\n",
       "                                                   'LDAPS_Tmax_lapse',\n",
       "                                                   'Present_Tmin'])])),\n",
       "                ('model',\n",
       "                 ElasticNet(alpha=0.1, l1_ratio=0.9, random_state=42))])"
      ]
     },
     "execution_count": 41,
     "metadata": {},
     "output_type": "execute_result"
    }
   ],
   "source": [
    "best_model_en = gs_en.best_estimator_\n",
    "best_model_en"
   ]
  },
  {
   "cell_type": "code",
   "execution_count": 48,
   "metadata": {},
   "outputs": [
    {
     "name": "stdout",
     "output_type": "stream",
     "text": [
      "Test R2 Score: 0.689\n",
      "Test RMSE Score: 2.039\n",
      "Test MAE Score: 1.684\n"
     ]
    }
   ],
   "source": [
    "\n",
    "model = build_model(ElasticNet(alpha=0.1, l1_ratio=0.9, random_state=42))\n",
    "# train model\n",
    "model.fit(X_train, y_train)\n",
    "# test score\n",
    "y_predicted = model.predict(X_test)\n",
    "r2 = r2_score(y_test, y_predicted, multioutput='uniform_average')\n",
    "rmse = mean_squared_error(y_test, y_predicted, squared=False)\n",
    "mae = mean_absolute_error(y_test, y_predicted)\n",
    "print(\"Test R2 Score: {0:.3f}\".format(r2))\n",
    "print(\"Test RMSE Score: {0:.3f}\".format(rmse))\n",
    "print(\"Test MAE Score: {0:.3f}\".format(mae))\n",
    "r2_values['ElasticNet'] = r2\n",
    "RMSE_values['ElasticNet'] = rmse\n",
    "MAE_values['ElasticNet'] = mae"
   ]
  },
  {
   "cell_type": "markdown",
   "metadata": {},
   "source": [
    "## Comparação dos modelos\n",
    "\n",
    "### $R^2$\n",
    "\n",
    "Esta métrica é utilizada para medir o desempenho do modelo em porcentagem. Por muitas vezes é comparada à acurácia em problemas de classificação."
   ]
  },
  {
   "cell_type": "code",
   "execution_count": 53,
   "metadata": {},
   "outputs": [
    {
     "data": {
      "text/plain": [
       "Text(0.5, 1.0, 'R2 for Regressors (Maximum Temperature)')"
      ]
     },
     "execution_count": 53,
     "metadata": {},
     "output_type": "execute_result"
    },
    {
     "data": {
      "image/png": "[encoded data removed]",
      "text/plain": [
       "<Figure size 720x360 with 1 Axes>"
      ]
     },
     "metadata": {
      "needs_background": "light"
     },
     "output_type": "display_data"
    }
   ],
   "source": [
    "plt.figure(figsize=(10, 5))\n",
    "model_accuracies = list(r2_values.values())\n",
    "model_names = list(r2_values.keys())\n",
    "sns.barplot(x=model_accuracies, y=model_names)\n",
    "plt.title('R2 for Regressors (Maximum Temperature)')"
   ]
  },
  {
   "cell_type": "markdown",
   "metadata": {},
   "source": [
    "### RMSE (Root Mean Squared Error)\n",
    "\n",
    "Essa métrica é utilizada para identificar o erro em modelos de regressão e é sensível a *outliers*, conseguindo considerar melhor o desempenho dos modelos quanto a grandes erros. Sua medida é dada de acordo com a unidade do atributo alvo. Quanto menor o valor dessa métrica, melhor é o desempenho do modelo."
   ]
  },
  {
   "cell_type": "code",
   "execution_count": 51,
   "metadata": {},
   "outputs": [
    {
     "data": {
      "text/plain": [
       "Text(0.5, 1.0, 'RMSE for Regressors (Maximum Temperature)')"
      ]
     },
     "execution_count": 51,
     "metadata": {},
     "output_type": "execute_result"
    },
    {
     "data": {
      "image/png": "[encoded data removed]",
      "text/plain": [
       "<Figure size 720x360 with 1 Axes>"
      ]
     },
     "metadata": {
      "needs_background": "light"
     },
     "output_type": "display_data"
    }
   ],
   "source": [
    "plt.figure(figsize=(10, 5))\n",
    "model_accuracies = list(RMSE_values.values())\n",
    "model_names = list(RMSE_values.keys())\n",
    "sns.barplot(x=model_accuracies, y=model_names)\n",
    "plt.title('RMSE for Regressors (Maximum Temperature)')"
   ]
  },
  {
   "cell_type": "markdown",
   "metadata": {},
   "source": [
    "### MAE (Mean Absolute Error)\n",
    "\n",
    "Essa métrica é também é utilizada para identificar o erro em modelos de regressão e já não é tão sensível a grandes erros. Essa métrica foi escolhida como forma de comparação à métrica RMSE. Uma diferença grande entra essas duas pode significar uma alta presença de *outliers* na previsão."
   ]
  },
  {
   "cell_type": "code",
   "execution_count": 54,
   "metadata": {},
   "outputs": [
    {
     "data": {
      "text/plain": [
       "Text(0.5, 1.0, 'MAE for Regressors (Maximum Temperature)')"
      ]
     },
     "execution_count": 54,
     "metadata": {},
     "output_type": "execute_result"
    },
    {
     "data": {
      "image/png": "[encoded data removed]",
      "text/plain": [
       "<Figure size 720x360 with 1 Axes>"
      ]
     },
     "metadata": {
      "needs_background": "light"
     },
     "output_type": "display_data"
    }
   ],
   "source": [
    "plt.figure(figsize=(10, 5))\n",
    "model_accuracies = list(MAE_values.values())\n",
    "model_names = list(MAE_values.keys())\n",
    "sns.barplot(x=model_accuracies, y=model_names)\n",
    "plt.title('MAE for Regressors (Maximum Temperature)')"
   ]
  },
  {
   "cell_type": "markdown",
   "metadata": {},
   "source": [
    "## Next steps\n",
    "\n",
    "Como próximos passos, existem alguns pontos que precisam ser explorados, estes são:\n",
    "\n",
    "1. **Um investimento maior de tempo na feature engineering**: Considerar uma janela de tempo de n dias e gerar novas features baseadas nas já existentes. Por exemplo: considerando uma janela de 3 dias, calcular a média e desvio padrão da temperatura máxima dos últimos 3 dias e adicionar como uma nova feature ao conjunto de dados. Explorar essa possibilidade dada pelas séries temporais pode aumentar bastante o desempenho dos modelos gerados.\n",
    "\n",
    "\n",
    "2. **Treinar mais estimadores de algoritmos diferentes**: Considerar outros algoritmos como Random Forest e XGBoost, por exemplo. Uma busca em grid por hiperparâmetros desses estimadores pode ajudar a encontrar resultados melhores do que os encontrados durante este experimento. Um outro ponto também seria testar o treinamento também de Redes Neurais Recorrentes como a LSTM, pois sabe-se que este tipo de arquitetura apresenta bons resultados para problemas envolvendo séries temporais.\n",
    "\n",
    "\n",
    "3. **Uma busca maior de hiperparâmetros nas Redes Neurais**: Como se sabe, as redes neurais tem um tempo alto de treinamento. Portanto, considerando o tempo dado para a conclusão deste desafio, não houve uma busca satisfatória de hiperparâmetros através do GridSearch. Um próximo passo visando esta busca seria um ótimo investimento, considerando que obteve-se o melhor desempenho dentre os modelos aqui apresentado."
   ]
  },
  {
   "cell_type": "code",
   "execution_count": null,
   "metadata": {},
   "outputs": [],
   "source": []
  }
 ],
 "metadata": {
  "interpreter": {
   "hash": "5b9a9829bfd4bd22d5b3b20a990b98b71f85420816dd0dfc2e76761f41c6bb45"
  },
  "kernelspec": {
   "display_name": "Python 3.9.5 64-bit ('pos': conda)",
   "language": "python",
   "name": "python3"
  },
  "language_info": {
   "codemirror_mode": {
    "name": "ipython",
    "version": 3
   },
   "file_extension": ".py",
   "mimetype": "text/x-python",
   "name": "python",
   "nbconvert_exporter": "python",
   "pygments_lexer": "ipython3",
   "version": "3.9.5"
  },
  "orig_nbformat": 4
 },
 "nbformat": 4,
 "nbformat_minor": 2
}
